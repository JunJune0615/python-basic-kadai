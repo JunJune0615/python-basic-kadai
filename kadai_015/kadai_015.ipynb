{
  "nbformat": 4,
  "nbformat_minor": 0,
  "metadata": {
    "colab": {
      "provenance": []
    },
    "kernelspec": {
      "name": "python3",
      "display_name": "Python 3"
    },
    "language_info": {
      "name": "python"
    }
  },
  "cells": [
    {
      "cell_type": "code",
      "execution_count": 2,
      "metadata": {
        "colab": {
          "base_uri": "https://localhost:8080/"
        },
        "id": "8kZyhVoQZDzr",
        "outputId": "dac6bca1-8dab-4ef5-ea0b-06f8f3b3b8f9"
      },
      "outputs": [
        {
          "output_type": "stream",
          "name": "stdout",
          "text": [
            "名前:高橋淳,年齢:27歳\n"
          ]
        }
      ],
      "source": [
        "class Human:\n",
        "  def __init__(self,name:str,age:int):\n",
        "    self.name=name\n",
        "    self.age=age\n",
        "  def print_human(self):\n",
        "    print(f\"名前:{self.name},年齢:{str(self.age)}歳\")\n",
        "\n",
        "information = Human(\"高橋淳\",27)\n",
        "information.print_human()"
      ]
    }
  ]
}
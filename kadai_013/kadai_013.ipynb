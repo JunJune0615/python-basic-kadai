{
  "nbformat": 4,
  "nbformat_minor": 0,
  "metadata": {
    "colab": {
      "provenance": []
    },
    "kernelspec": {
      "name": "python3",
      "display_name": "Python 3"
    },
    "language_info": {
      "name": "python"
    }
  },
  "cells": [
    {
      "cell_type": "code",
      "execution_count": 6,
      "metadata": {
        "colab": {
          "base_uri": "https://localhost:8080/"
        },
        "id": "A_KqqStMTPgj",
        "outputId": "a2c69bbc-fc5a-494b-afa2-3aad4a0177b8"
      },
      "outputs": [
        {
          "output_type": "execute_result",
          "data": {
            "text/plain": [
              "880.0000000000001"
            ]
          },
          "metadata": {},
          "execution_count": 6
        }
      ],
      "source": [
        "def calculate_price(price:int, consumption_tax:int):\n",
        "    consumption_tax = consumption_tax * 0.01\n",
        "    return price * (1 + consumption_tax)\n",
        "\n",
        "\n",
        "# 関数を呼び出し、引数として購入金額を渡す\n",
        "calculate_price(800,10)"
      ]
    }
  ]
}
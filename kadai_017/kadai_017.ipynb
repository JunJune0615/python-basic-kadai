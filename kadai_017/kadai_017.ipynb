{
  "nbformat": 4,
  "nbformat_minor": 0,
  "metadata": {
    "colab": {
      "provenance": []
    },
    "kernelspec": {
      "name": "python3",
      "display_name": "Python 3"
    },
    "language_info": {
      "name": "python"
    }
  },
  "cells": [
    {
      "cell_type": "code",
      "execution_count": 21,
      "metadata": {
        "colab": {
          "base_uri": "https://localhost:8080/"
        },
        "id": "PG1pzlNq7Ogv",
        "outputId": "951fb710-2ce4-4cd6-c4e8-f6c47d7e1574"
      },
      "outputs": [
        {
          "output_type": "stream",
          "name": "stdout",
          "text": [
            "Abbie:10歳:大人でない\n",
            "Ada:20歳:大人である\n",
            "Adelaide:41歳:大人である\n",
            "Amy:2歳:大人でない\n"
          ]
        }
      ],
      "source": [
        "#クラスを作成\n",
        "class Human:\n",
        "  def __init__(self,name:str,age:int):\n",
        "    self.name=name\n",
        "    self.age=age\n",
        "  #20歳以上だとおとな、それ以外は大人でないを出力\n",
        "  def check_adult(self):\n",
        "      if self.age >= 20:\n",
        "        print(f\"{self.name}:{str(self.age)}歳:大人である\")\n",
        "      else:\n",
        "        print( f\"{self.name}:{str(self.age)}歳:大人でない\")\n",
        "#instance_listの作成\n",
        "instance_list=[]\n",
        "name1=Human(\"Abbie\",10)\n",
        "instance_list.append(name1)\n",
        "name2=Human(\"Ada\",20)\n",
        "instance_list.append(name2)\n",
        "name3=Human(\"Adelaide\",41)\n",
        "instance_list.append(name3)\n",
        "name4=Human(\"Amy\",2)\n",
        "instance_list.append(name4)\n",
        "\n",
        "for inli in instance_list:\n",
        "  inli.check_adult()\n"
      ]
    }
  ]
}
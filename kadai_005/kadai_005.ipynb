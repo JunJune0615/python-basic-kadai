{
  "nbformat": 4,
  "nbformat_minor": 0,
  "metadata": {
    "colab": {
      "provenance": [],
      "gpuType": "T4"
    },
    "kernelspec": {
      "name": "python3",
      "display_name": "Python 3"
    },
    "language_info": {
      "name": "python"
    },
    "accelerator": "GPU"
  },
  "cells": [
    {
      "cell_type": "code",
      "execution_count": 3,
      "metadata": {
        "colab": {
          "base_uri": "https://localhost:8080/"
        },
        "id": "KzFAvlozGSev",
        "outputId": "19f8bde7-6714-4ed8-911d-574750d62d21"
      },
      "outputs": [
        {
          "output_type": "stream",
          "name": "stdout",
          "text": [
            "75.0\n"
          ]
        }
      ],
      "source": [
        "top_side = 10\n",
        "down_side = 20\n",
        "height = 5\n",
        "\n",
        "trape_zoid = (top_side + down_side)*height/2\n",
        "\n",
        "print(trape_zoid)"
      ]
    }
  ]
}
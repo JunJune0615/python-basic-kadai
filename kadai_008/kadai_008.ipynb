{
  "nbformat": 4,
  "nbformat_minor": 0,
  "metadata": {
    "colab": {
      "provenance": []
    },
    "kernelspec": {
      "name": "python3",
      "display_name": "Python 3"
    },
    "language_info": {
      "name": "python"
    }
  },
  "cells": [
    {
      "cell_type": "code",
      "execution_count": 18,
      "metadata": {
        "colab": {
          "base_uri": "https://localhost:8080/"
        },
        "id": "CYXvp8zCIloW",
        "outputId": "204e6ff9-c7b9-46e0-ded3-ab767ad1ac34"
      },
      "outputs": [
        {
          "output_type": "stream",
          "name": "stdout",
          "text": [
            "1\n",
            "1\n"
          ]
        }
      ],
      "source": [
        "import random\n",
        "\n",
        "var = random.randint(0,99) + 1\n",
        "print(var)\n",
        "\n",
        "if var % 3 == 0 and var % 5 == 0:\n",
        "    print(\"FizzBazz\")\n",
        "elif var % 3 == 0 :\n",
        "    print(\"Fizz\")\n",
        "elif var % 5  == 0:\n",
        "    print(\"Bazz\")\n",
        "else:\n",
        "    print(var)"
      ]
    }
  ]
}